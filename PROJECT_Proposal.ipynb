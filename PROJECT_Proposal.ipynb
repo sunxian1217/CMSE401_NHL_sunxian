{
 "cells": [
  {
   "cell_type": "markdown",
   "metadata": {},
   "source": [
    "[Link to this document's Jupyter Notebook](./12p-PROJECT_Proposal.ipynb)"
   ]
  },
  {
   "cell_type": "markdown",
   "metadata": {},
   "source": [
    "\n",
    "---\n",
    "<a name=Project-Proposal></a>\n",
    "#  Project Proposal"
   ]
  },
  {
   "cell_type": "markdown",
   "metadata": {},
   "source": [
    "# NHL Analytics\n",
    "\n",
    "By \"Xian Sun\""
   ]
  },
  {
   "cell_type": "markdown",
   "metadata": {},
   "source": [
    "\n",
    "\n",
    "<img src=\"data:image/png;base64,iVBORw0KGgoAAAANSUhEUgAAANMAAADvCAMAAABfYRE9AAAApVBMVEURERH////k5eYAAACUnKHn6Ons7e4ODg7t7u/p6usJCQkGBgbh4uOkq6/7+/uutLjFxse+v8DZ2tuco6hYWFjQ09U0NDSMjI329va4vcDW2Nqgp6yzubypsLSPmJ1CQkIbGxvIzM4nJyc6OjoxMTFmZmZycnJgYGCrq6u2trZLS0t+fn6bm5uGhoajo6MqKiofHx9tbW2Fi49PUlN7goZxd3pHR0gIv6XTAAAgAElEQVR4nM2deX+iPhPAgcghoOKB94XWG62ure//pT2ZXCRcYmt/nyd/7G67BvPNTCaTySRoesVyqvrBPyuVW6BV/FyEFsMftoWV31ZfoKjiR6sybRHSOj9sDikhCn5T3dcQ2lb8bEWmJrI1F7V/3CQ9QL+q3kauZqNmtQ9XZDogDXk2Gvy0TQHuExsdflp9gGwXt6Bi/YpMd4RuC/zU3c/ahJE8hH4MtcHfvOghdK/28WpMDn7oXN/hPz+cH7SpjXEW4QL/uf9BbaePv/c+aeM/q315NaYLsj9rjn7GrULhy40iSN2wucateh2q4+Lqt+7MubroUqlGNaa1h261EIaV677cLII0mYd6s/8DKPKV/7rzwBogb12pSiWmDqherUX+hRt4frFRgFTDTDqRVLW+5gVbB3Sd12rzjhniypWmk0pMA+QuurUa/NOCvu690CiGRJheh4IhvK5BMQ3rgaoZ3kpMSxd941aZ4mtWZtVG7RkSZcJajGvHVStbH9CBXUBqmUb9gtxllWpVmCI8uUCrIvojqENVp2APVhiQOFPzBagQEetAakemYXTwj1GFelWYsF90hydP2M942NrVNIggkUZxpheg9tQ60Nq+YRjOrpp/VIEJ+0XoH3kw902wpdCqPD0WUkqYqPpVMDNnZh1I6dYxUx3G5vOKVZjwk64N0ixhdRxo1/GZp73FH3p0a2mmZhWHZHiH/qjxylOsehiqmitSgQk7JRs6JEbJL8FdWfpl1fxPGOAT3qzu2ZCeqKHP0sqhJqwD7RDCZJ1QFZv7nAk6p0ab1pB8COJWlkygA/B5dwnSAK0Sud7A/yuxywMYsd+icq27B90zTOw3IusNTNiCrme0x0YyRBusUq+gtw9X3M/2l+jobow/LHkBexiR14LFRwiabf9rCKTJ4m4ZRPn6Vfyj50zYLzoxpguSLVZ9DUb9lONXHtbQz2IoUSQNj8DkI/4a5PyRMzrMLXTWsdEQ1RtrhBhTJf/oKZOP+2xGn989p8xdDN+OtqpXG+E2YbVbSv1MkTDUWjIrB5ssQLaRUjvYkGcOpo0JY+p2l/hr22RAEf+odCBWYsI9c5xSpmAJnd2TVpvGDnQIXU+HsO4Mh0Y7xgYFBLA8taR+PlMkXPlaTyo3BwjEidxN3DbqVr1Da+Pn7abTGWeanPESV0MnKijnWME/esoEkxNjwotd0i65o8aYCk+NScFAaP1v2hL9XJttkcYLQmOp8vDyQbGU2pvpaNriTI0t6Q/3kynfpcIU9YwJLM2I9jmoHhRpmDaxzIzBJ7TGc12PNKt/ngYj0SbcqkWCBJVVWxmeV6SWy6qvz+1olDBNHqwyCojyGQaW4zO/7BkTVu8NYxqtbN7buyFnag6HzWZnf7ovPlfrY+98aYdym/BQWspIUHkjBlUT+qTpHwabY3/1ueidLsE4jAJRfzLQeGWufBY06HdMBhZTgzHtZRU6JEzDoTN0HMvwfb+DmyS1CQupx4eSjUSP2Lyjm6w+LqTFPqku6k/uoo5m21RMJizhjeIGV2DaIm8RTQnTrCd1uI3ulmByMFHdAKJxqDBNBkJInhuLBrpoY8lMuH7dZPUTptkZyRJGlzodUXhueeJqljOBIY8DwjSfqjqE0HkIrSpkasziYyKba3vcQp5auYxpOl8nQiId8eFwK/HMnJczHfEUF40IU4NaL1uQYXMVN/UiptY0vksM/SgMx+2rXHkwlOScYhrFC7DgXFfpXwcmqE9XnrxfZYLlT4sxjSjSxyYRFzTMwFRZptF0sEYSwDaEMh73lMpn3N1Zpihqx+ukO2w0oLbJWzNzfngWqSlj8rGB2IwpU2tHJ6fT5DvpQWhY71DHVDJTFMQ9TfoQlueYMfmDpLFQeRGPddIpFmEiD5hul0rl/fBEewJRR9ZwsN0p1b4SpiEe2EvcSMLEjB5qdCfzlTJ2ETrGQR1T4WZ1wunltIC5U2r5IxhTIlz8oC8PEzwlabdL4HOq4LJdqZXX4zo4RFDcKzN9eA3vaSWLt2Km4Qqm23FEmEafpOvw4qHbnTQ2UkeS/oap9vE4rsm06cljG9lxQtTpdHxjoJgzVnv1eCz6SzL5Kv0VY1RwiOiPJyfRvs9iqEImH1YLFz8kTFMu/i5GmkxmaaOEm+Z6nuemfgn7K5GChIsRbVBqGsYyyKntoWNo8TmJPq5Ntc+CoMC1UP2KmGLwrS9mhzIdGNIOq96kgc10699K6dG8giVwC/hI4kQdPDObQQ+l+yRTPLQ+OMwfspig3KVPf+MMEP5A0Uoqnwkv6XCL9o5PmSKNmVMsI0DCULPW16c03vPapG2zRICESx2WFGV9gs3HwaFCUQTF1oYgKez7rvIXlTlM0WAFFT7GQ4MyhcyRRLcGRZpBabUGx9TgkYCwSQspEdM7PzQ4ES5GfQyub26nwAjbtC1BBAh8EuBDyrDa2EVx0SrOiTanmJzDBtHFQww+GDAFITXjWFYtLiSC1JqOZl+PlFGwybpjcW4zID6S/DM6G75U8IopgklM7RVSu3fxLdOQC5g6BhUzqLpxoksTtG0Pi5k6MTHDuJ+WeJIfOpRpzJc/KG4IpBaU6XSKZ9f5dnGVFkB97JsHHEgIKYDNp35gJkjQ0roz3m8XS2n99NkbtA2nbqQLWAXWiovFfzfe2rS56H7xc5iGbTzVYV0Aa3wKyPxOmfwbR9q1ZCERJIAagTMzi+PBYBBfRgGARJGEBBpH3VEPnXwjQaJYluV3gsP+crnsD0HHBI8ir9SZmcCaeXF4Zcs/3BBbVa5OQVNm8i9H/l9rqqBNztS5s2e5q5YipBYjgtIOcImSkhLSRROao+3B4fBTDTbNOin5OCnt09DAEb/GS/72+YMtkFFvT1Yh2jAgK00yMnd7Hi5gTMa4L7onEdKmMZ1O00gSlYzUMQ4L1TE4lDW9uNQPYlJDN0N6BNbgkIZBAOHzHA21IxOQfQ6k4AllGh7E7IgGMyYkPP+i2wwPpJGClJESIzqmjJuHFnsrO2CeF5iTeGM+A0v+L6zB/mGrwdjB4jpqYPrdxSU1KZM1gLlJ5H1u8ZHUIDLdNcqFRM13vMq6DDBzxR3rdWFZJ5Q8YlBP9QsemMFgAU1ta7Bhlo0uwcLmkrQHnVp8JE371PNDi8EUW4ciIeHp9bArmlfBw2ib1aSFXVsBdUs6CPXbmfp1p7OBbTcNe0H20jEzHuHhQwjJlpBGYv2ELeR9MCIgqpCIhC63a5n/A/PFbd8h3nxpqXf6G2ESHAnKQ4+DYvRNM+rO8YNjzDSEtAVzHMox4uH+mnQxlmOLm7vpPyUogU3oJp4GklXAS6B2erlRiIWu20vbNx3LonbPcoyUSXT2CJxz8eNAeixeC+DJuc7FGdTmtW/MMgRbfkJu38JLv5HPp6qbrDRoeUmQuunhAS3z1sfd9nQeDM6nzf2DLDee8CTdRebZzfY8iOP4vFlsFSazTiKW3B1njEr126Hj4N7wR5io1l1hlSLzkwnh6A5ecs8aYzMAJ04xvseZmGanMy2v920WrUTp9c8LYLTEijmrj9csBjIWUPXwQ+5W6NLH6dKqkQ3FLxongzkXj+WeHwajVqPWTSkNcgfTxHForaoK4CcFfUYKUiIT79oRw86spxeVHvpkuwULl2y5ARNsFgSEqdvdyJ/H/vFM9oU+s4b5jUgbeSbFQ36b9C5aJVCGFe1UKrrbXKvhsU725YlvBGHAMWGqTcSnsUr0Gi0JqfWXSF7ixjEd6yu9e03UD/t5sKhMbNiaRua7d7Y5RZhgPztiTHxhgT6+W7KQRhPtDxUvrXfWPmVnEJJdB9MJTyJYiL7Ypi/P8KN+ORbKOWJhcfpRbwLh3cRhHQ1+MPqrFrtM71hx8bJb/gh2XlnvfzAxYa/HldYaMO8ypsaC+glnFSn7Je8rXrImytM7AX5SHCqL+X+QNkSYyHybMA0h8YvJiX7U7bckvZvlfcm7SrG9S39wHcofXJJeJmlDUL4xw1BeE56Qt2BMM/pZVEuEdKo8if4E6bneiY9KrmudR1FZFkX3w+X7HYwJNjC6bDvwm0aRd1NmwS8ff6t3ZfYuVWx0PfD4GFusckP+lWx38LU7zLts23bCJu8pRRqd/x/0TlSIqaDwupf87PaZmB6eSHHhTBHGZCkJ3EoMpnR9Pv0zJltdsZbqHWdik289Vi3EXNrnFXGjDw+vXikzFQzqjej6PHj80WjK6t3Hs+7zFqyGsyCNsl2aOdbdIfdTTzPtcQ8xpgZTvhELOfyR8qGPJ/NsXp0BU70xm0Z5sowtZRQKpiYW3hfNWppRwaCYLc9bf8GE51lT0bt6lSmQpxTADij5+TttyGUm2I5+sHQapnw3xhSs3m/3fqB3uNhLbvVYsBkx1Vu76KZnmcA758k0dNr9aFOmaPd2QaGP8DV7x6rtWC2fypS7r3PmkaeZSHYy/ciMxVFaNDAUDd7MlLF3kt6VsglL3ua7ElQIN+zb6XlMJ5pFDqKkIXI0CEjoOHjzgCrTO3Q/lXyZGE5nZcIF1TvlMkWJ8lHjjzYBC3Ut3zmgSvTORmenRClsjYUr2Cabfc1TPWVfA6+i2FJkRgfUZ0TjkeHxfYIq17uDVS9hQkcmX5NZ8nuXWT3b0/OZNog7hDM6oyEeYi3Th9cKyuhdsnpGj07dKGU6p4bTN1vgepLVU5nwtPvJBhTzY/cYCAKSl3cxlesdBDBLmViGhHCM2HBaqgerZCYfcXvPFlF48UtDrKP3MGG9K5xnQe9Ie8uYmIlgQWZ7mcRWjAImaUA1mJFgMePxW5iQuvxW7d3RZzIoY2Id4nyQuYbPTng42XoREx5QO/qxqU0yNj/GjKn/hmAE6pfo3YAHzkuY3JWjzLissd1eKk1RYYrFDEWNhG2HNLI//r0nUa53bUFbwsS9CDNSTQSeneJCpgBxi1+jlg616WbF+NeGr1Tv7n4SvCtjYvmj5kExETVsIoJCJgtpnmok9iHZsxjHv2Qq0TvYn5UEWMbEPCPhlM9JrGGePhCqMDVdm7MzTyJmezD7XzGV6Z3mPi6dejWmvWJGbLsBeTWTf9hENAuZ9IXHFyTM8A0YU/s3TGV6p5EgtrSfUcbUVky526eZAF/IW+jFTDvEPV0ahEBbltUV/oIJ652yS6nYO/bXvl6FKWRMNGTk3WkU6BulTlOpTKfEmJPMM7TrsB30HzPZaFts7zQ2Tt2rU4WJe7DMc9vQgAkWxLmEKUbekRnzNcxI2CLRxI1x7mZahZLVuyR+h+fZiCfJhOZTJpszGSu6vPsOyCr8jlJZbyrTXkxQjSP0hXf0WaLaD5fvpXp3rtcDztSuwKSxj/i0g8FzAw/76KVSflWmA+L+xoRsrnkLn6V8rn/iSGT0zlT8OwcOnlVncj/ZZ7gbEVOPAE+5hxKmNuJxTcrkrn2aTugvfhDjS+udJc+zsK54kanPRM5CsOhCDVg/fduGyoQdiWQ3Bx7z4bMk1h/ELUv17kT8u0pMNlMRd51i2ndItsyHmzppozJFCdNNYTJfXulivaur9u4mJZEcqACrMHmIxrqzTAeSOGd8uqnT1YVy6klMvm8eX5RTmd5pKOKZGs+Z0OeYZa9kmeomLtZnuZwkJrJEcfs+zcs1XhxPeD2r6t1FjnGhjlGRCaK1DtN798NUmdoOlGG/nCmxETXyHG/NEnONl+xeRu/Mm5p1UZWJRM0c9t2S3WN1yOGpJnboymxEYsvn1Dc61lmu5yuLwlK9e4WJ7k6xVa1mrwzORG15mxw2gnPeZbY8mXNprhS6Myb/hTk3Y+8u6dhqNSa+Gy+YbM7E5lw20+LVedmci30jFjL7okw7zlR5+/OZ3lVmEtFaziT8PZMdHmGL2y1K3d1Q5MOyYNiWZ09XNeVP9a4qU7I75fRTTNyHZamUA4ROJUw9lETVaTWaO21U9ctL9E4S1nMmOQvEWTObm1pr8G32ffqyApUJm0UaDOuyI1wXxlRtTYj1zlL1TsqolaCeMim7BPwESnpNiB600e30GXiFachv9GBTrpiqzUpr93L/TlpWPmNSd+MtHrQSJwr52p22Go7TFa/d8f/aYuONPCWiGe71KjEW1B+n9Y5P1ODf+ZWZUruiDg9apWIsNtvtBEmYhUwHETCf2Tb7cjIu689jYRl7Z9yUdYVZnUndJbDaV36KgMfC+BZAR4yYdiHTWZhytvW+dKipsXrPmDJ6F0l6twABVmWKlXx400oS0vjpJ37AkE+1m9RdBQrTQ5i9C3MjeDbCs6U7Wmfsnax30OCKTIaid3X/nnSNxs/x15kWMZJLyvDJTJBOwEwEC1kOeEPLxcSbXaR35JdVmVS9cxOknojWskOT/Ogx7K4XMQWQSEWcvRE3e6b61QVCyti7z5Te/YxJ1jtXiQHS4W27zNxhIxEWMJ25tzcPmXDHanJPAdK61N7xxr7MpOjdUh5lIs+NGYme6h3JTCuXR2FpiMr2hqzjt8VMGb2T51mudwoTRJorMKl6ZyjHGMY8IkEbvldnXYkp2Sacsmj5jZ+y/ChcaWC9U5OGMvYuzeRJNYqZCvWOfgs179w0QNZ/PZcpRi5d5M59lnB0UROW8pCK9U5DZ+WMCF/JySvgQqa6fyzQO8rElvPcNPSVw7oSE1zwSJnqrAYfTkWeUdbebeRjEfeBn5ZTKuJXxGS1kzsd0M5Xuk1uEV+0x0i+fiFh6nDVm49oDbfPVa/Ai8jOs2pWvYfcIGkOMKVr5DOV6x0pPCTBXHO4YqWew4St3ppe38bN/5k9rf6ZO5zU4ZKyd4zKTs7JwHBNzcz5TPWOpHdXVe+4WvBEFq58R9nyJUyI3zrWdbhg2ewU5YmpTO/QlRt/7nYSppRHWMDkyPYupXfOPkqljjLlOyD3mmWC+2hIPuw8pKpna/zEct7sVKZ36OiLtt5EN/upGvlMZXpnWmeRGBaqyteUp13BdMdOE8kdnetsaXzia+ec2B5ad5QOtBK9c9FAnDvA1jZhijJDPctUqnedBUo8ULr45esNCEps00xwv1MN5DSf+inVy1ryUr3T2o50kUDCZOR5Pykm1d4Zqt6Rg7XcBRHKx3zzEAk8wYQl/kHyy+cOzY0TW3dZ1eNpNEJI8jxLPM1cppyiMpnOuUTvTqTb0nOmuFf6M7m1izPhh3wRponOIoLcJ7fSqocWnSJ757K8gCdMycUQMlO980i6ZqXmNPNjeMnyR5wDYDZc8o80biEg7x+uZuJb7HzCNVPb02XrCu/aVlei+UzOfpzD5Bwkvdv4OXqntEtMu7HuwIVKDc/mLi1jgqMN5AzKXL+ry8HUPoPilhrqusK+8paUMYEWZf3yoFTv5GN4sVi70DTfpa4T7+fu8TBfclZoAkzztsXw+e5+XfFf03on2TtwPMQtCMVMoEU5TIdjid7JYU9+dZNYLOApKqTRcD4DU6YLslfkTNd8GLMJOr1DlK93ypHKKkxkszDLJKUrZ+xdKk0bsWnXELnL+pC4Cit+eSxlwn7tiTA1dLZPf0r1BtM71d6Fqn/3nIlZrxwm8Yy03mWOB7Cm+T5z2cCGtwBqw8MS9E4M3HUjYKr5fH7mnWFImlymd5WYuPUqZsroXTbcTlUIrhRKpqjOnGwv2TSXijDFyFvQs6z6FimtS5YZ5euKSkxCiwqZsv5dTgo9OrCNCT5FHfUmz+PbC6aFhwZw5ngS8MmJGxdHxKoz82z2tO4TpvpJXGGSz5TVu+w2DwG3KJPJpyhLn9J9C5p4BEwmP0fdHbbVjhST01O9e85kSkk5uUxpvUsPV15sNGY7EzyP76L7XPmGjGmP3D6cd5+1dLZj0FMnpwp695wpL27kSEneGb3L6zb6yZgpX4fejQQbHHOyr04TLtkZ/hNhGnPVE5MTMS2ZeTZKbqtTrj54kQnWDqKuuIyJPcHM7TZSvAVl6hhsxwObhhbdYCIZYsAEt4J3gKnJVEFsMpKfaRpNrt7Z6Cy5GS8ylfl3crflCCoiSB2f+0cHfTwnG7ZkZajRQIQ/xkwj/az6RRCIeBa/q6+FhrzG5LSlVJ30PFuod7T+wKD5NWOmV3jaJaEUelpNIx7twsJM046+ZofuuNVb2lm9k+PGWIDSMH+FCfQuuVs1Ze/yh2tS3E+T3RJHLR/3+bo09YjcXYJFAUzNIRNlKMLkmXVFLOsd2ehMBsULTEr8LqN3Ty91QAHLg+Ib2r4+mtPs+Zgw9V24YyYK2jrtcnuZWL2S9awQoAgrVWfy21qCVNneSUwDwjTutNUBRVNj6b05kYHlNNbZDo0IKS9K7F1iOIT2VWdS1hWqvXumd/QBRwMuKR2PuTU/6c6c+ObuCphIvA8zjSydb7bzFcq42N7J9x7wmGZlJklIq+AFeyeKjUKCFHboppK3oO5Rjd0FFCD3w/Gx7jV1Bh3kREMK9I4V6sxXZxJN+4He0ecegCk5dIFXTiQ2idcbBmaClIkhZor0IXMa0lfJ0Q5MLhZOGw6Dhb5eZfIyerermgKEBh2aOMrdI0OfzqkbG2CmAUJbYBrrNAjtrjOhRaJ3yf3H58yFWA5x519kyuhdUEnv2HM79IQCNxKRHs3pKbw9ZrrB3ZWYydDbqrMndaDsqKCzkQO9dF9kys6z8Qs3b7if7HrJgHtzxPCBdwT3hfXIpanjyNHZZvtZ6T0jM3ARumWQyI1/rzCl7V29ut7RB4fskslPvgVvzOla94SZjjDiMdOQm/I4FQPOdiB6ZMLEcOXaC0y/0Tv6gDZBguxy8uOZGnM8Qd0wE2SBAJPOvb290uBcBznDjZvs2U/WT0mjs/buFb2jD96H9HY8FrrbUI+PTLoa7ExHlIktng6yBZDtnfTEYyZsh7WvjMm0Egc+be9e1Tvy4JgxsTm1pzepZ47/pemwbsRMoc6nXHl6ku2dVOxrdgqzNqiYSckL+Nk8m2IaUKZoyyddnTEdMRP2vUOFSYSMihdmtpdlMjvoo4jJSvy7N+gdefCZMdFJ1/3gTN4aM10F0yYlp3y9Iw1zc1yN+n6ZzyTvk71D78iDT+RG+4AxwVULwuET4ykU40lkKsWFV4TJckr+5Wy4TilMdb9XrHev2juFKShignUUZWK3RvAtu7i4AyU5hWEClVw5LDFZwVLSu1/MsykmemcC170r1z2shRqkRbQpE7PlPEOz5OB+IiczfOTsxkhMw7hY7/yf6R158JndA/GdN54WHp1zdT7n8hOjhxImISdznJrPVCbvnlx/mt6f/bHekYcNgKndDm5pu/eQfCPy6j1Ny9x5ksvkSUzIzxiMpK5Xpne/OESPLhEgjQKWlbcTcy7MT9hFiikTe79T6lqkXCZZTnlOb6Y/8vTu50S4lTMgGo0CliTAfKMbHOfXIMRyBr+8qUfq0r0kuVKRU9qbymPK2ruiaaIqUzsgNxW1P/g5B5P55SdyNzHaDIkPS71M78FjJ8Xng1Qm281cSK4yvVnv4IkrijSasvMoNMgC6ydYaxywOwFMlq5TU8/9HmtT2JUqE9Zmp4zpnfaOFXSP6H1SMx6+o2vCBZwB1eAM4dUha0L9SuWYSqvIY3IVJmH/c5nQNXqfvePPpOeNR6M5YxqSAF/tE97cqul1BHeCwNqdO0ds0i0xfGkm21O1T9qveL/ekTaS+9mm0xGdnuAqIBJjcSHnTdObto0CA2IsKWPOz05VYMLrF0m7zLp8e/p77R37fjQlSNPRnZtyne292yQOix2JC8RhdRaHFReNOYXZ/6nxpCnap+5XvNne0eIughF9JQG7UDTmy1xIZhHx8mg0FMEwnotYOKAyctJcfhhdzjmBU0xq2PMdegcM3wSpNWVXKaNAhFhO8r5G29B5lhv3zDvVmfC05lC9S/Yrsnr39NhHVaYGMLX4+45sZiLYLjXbf4J4eeLF8vQp51HQhhwmenN66T7Ze/ROgwDVaErvw2AJ1g+2V0Pflk72CeFO9jAY8QHl8ahlccJyDhO8RstS9E45TfI2vQOG04heXstnp5h6e//owQ1g6sHr2sJgOoQUTPIZsSbKvKWKNThjI6DW1vkv9A66q0WRWl+MqUO3ajY0mUCjKR8PYHLEDMWteVEWdp6cQAWkdcVf6R08fDMiQpq1qOrBgrDFkj4ujAnemx6GI4fk8ZEPffAIVudZjEXx3pOtnJTevWWeTZgaFGnG3rgA56BIfoRL34dH8liWLopDejMaUrdrCgSVLyeBlr5j7416B43rTVv0unh+wsGnCUffsHDnTPA6bpajeEq5BfmCKmXK2rv0q1l/ydRgSLMrexkjU72jRy/QIUxBkvTL3YIxF1TuVSIlTJm7bK0331CPblOCBJc10V/sWSaBx3LM2d35ybvgWTrBVoTqrjktKhhP2p/rHUS9iJTgAqokfy+ix9nZWQDKdEYip/nAZmaeEpQbailk+mu9w9/wjyE1uJhObMJd85cJUaaOdCiKHbsTgpJffCOY8nXvz/UOdh+mDKnBrn9Apj5mN16wS9k1rnHiiCvPXkxikVqmXRKT5BP+ud7BFzco0aTxzdq5wUunLvVfF3KOL1w5yg9Rcl/izttXzyStJkyl+ShSYse7Cmgefftel70DEAx5DXQvsQmaABFHA/hWtogGWZk1B2ey2oX+3R/oHQiFXE8Hr368J2JqdLtwd5HLr1yWzmus2D9ZWMJOzmNloi3URkCzE/8u9Y6M9+sdOF8cacLfQ4UMfdwFpmtyKTtnclBizvl1kcl63EotOoic1H2yv9c7zfuccaQJO9cPRm8ywVDf0oUL4vzTOZGd/khrn+mrKdHAZLWluHHqHRl/oXeat2rMGBHXPOCICNPVTg7fCaahNKJ8XqOTmDclfoWZyvbJJAG+r7jLLkPqTr655h10B36hiEk6TwhtTIRGq6xFNMHsyIsFWyvVO/svkDSMRO7k7E7m/FXiR+zpESbNzj0jCZeOimsYPumyIZl5sfqtpZYupeyj/0LvNJqKk+sAAAlOSURBVO/aZXqHFW3FLjzCfkI4gV/u5COS8pnjvXTIVUROkndrmkZPkRTrvvQ70P5E7zT0MWF61+1OeOfisVKfwG/Fm58yTPpaOo3M3XHZRDunzMIjq3funyAdZ0JIE3E0Yac3qVOBvaCHns/UkV8G/xDDUIJKZ0uk4nfyhPXGYqPbjAupO+Ha4mLHZ0SYvpPX72SY8ILQFrf8OogrbfJ2QMOKZDc7q3dvvGM/KciezyYTjsRD0zYa6+EMPKWubauXqap3Nl3d5GaTkHW5LV1aTU4PiitfMnpX6R0ZLxYbPSZC7xIkGED+rAUvSMOa96EXM8HNJuLSgoPoEflIjXNgHkJqv0IOwL6xIO1rJoi6XWGmsIk2SaSltUXivo9cJjANyQcGAkqeU+v+CaGs3nWKYra/KR7aTWYNQdQV34FdV4uGYsHmqde6pZn0BXJd8TIbETQSR/GokoW9TPzu8Ad656FFTRbSXOTS41W5QwLmrQbu8btezgS+LDPoTR7ChIf05IQB02n7qt5lrfw7iOaJBcfln1ib4sWfA/tPmGmNh3f6PblpJnIhEDnnCtcq6smQvCqXqisRyT/QOxuhx3wmplkoUir4miBhplEP2Sjz1voMEywJqYISKHHsEwZQ7r1K8obTm4qH7F6t1WhMEiHVFokz9tDrdM99tFUdiEImnX8Q3t8sjSnIf8592/J79Y68Pfar0WooQvpaSs3QffZiKuxq57x3Oo9JP8IJDso0bOqxlP5/cTKiqsfktcBvwbLhPbx3DMTXSdw4PKRU8JM+HtHkCDDSm5z25zHpfXJrBmEaDuEeQtGH6yijgHVnvD8tvApvay4t8Gbg5fG7BkHWhiqk7yQhDhboJHmKphHIt+U8YRp+EklRpqHuy8cHb53sqfx63fHbg971Z+85tsmLjtebf5MWCe43FCFNvqSXMCIUDUl65WgUwCnPRV7r85n04QrBEUoC5ThNXT4GgE5+nrEw65bZOQw2FKyiyIiyocXmX5dsOdM4eKMh+UL/FvKrsReWQd5THrQDOEKzaOa2Pp+JQh10ymQ5unSeGQ+fc+Er5zEZBrv13adjjAhnudgOGiTTge0osXhkLpGLBk2a2BvA69CKpFTIRKEuOmFy6mbTWCSiwlSbtpPNmucFIs5BvH0UqSIYFdTvneLWKKCpGy0ZiQlp0v3uy5ml4LqEjCn6LhpLZUz6EE8I2IUnTFgqpi7fMIxbtbgYVj0XyWd3afuddnxbpbiAx75/xyM6zmmaAydKkCaT2mYpV8Qqb3VCxgQv4st4RBWYiA+Bjg5hqhs+Ng0budvwSNgcfIcfG/JVJHrSdIzZogtw8YPuSOsNWnSQcyJVSISn0f1eK2YU61lgwhkuwjTCi/fk5p+XmCB6hJZhkzLhljrBWr2yG6FdHFkgrlyiMX/hyGFLZIw/fgkwUJu99zBPSLjMb+u0bLW9Sc+lwUmaGV4lpl3xykxwEN5F+yboHm4rfqhxcTOapN0uUb1uGgVI7JgS9gjRox3xuSVPSPDH/PtopwYh/pkcMebP+4fc9IXlrzDpHeiSm+VQOY1xL43jVWrckxHfGxw6JiEXQAKJnhXZwEu/SKpxOyUk+pLoWfffZpG1li6yBz45NU0fGBxx51z90laXM+nDOzyi7ZhETrh9WHcG64zPatNZc3AITf79ChEUkjydIyQ80WKcR9qYMO1exoZJpU+6KcaMaJc/LVVlIgkhLlwESOQU0tEd93K+n7oDWu+0j0gLVCR4gV6gjiRCNcHS8fInM/zr3oEMZcbUie6YKPUil58w6eMVmIq96Y85E+7fyfeiZO5Bx23cjkgfCKRARiJvsJ187UDZ8udm3EHrmJpVMUpjBBOt+bTFz5nIS8Vd1Iv8hAlW1HOwt0VpLqBI/W0cjMNcoslX70Mr9KFA4J+DEOZF0+BMBrbgdvpG+Z8z6WNw1NE2HEtMsIVaw00rbBnRxeXmEoWRgtT6t1sWV4LeuG73HTzXW9iaciYDT7O4Yx/G88ZWZCKXYMLb1aF9CRNs4HfnX7u+XejcgSr2LlHEkNqjwbFwUULUdnHad8B1JjM9ZzIjmOCQnV3S/oZJtzagzO4Jz+IyE+WqfW2Oq6K+x029xhE9iLDV8s8GUf98Fwd4DUCBEibTCm/w3diDrdjWqkx4rnqQJ29baSYG1v3arO18MBttSYr7MUdC1KiszweYc9iKTWKqW+0e+d5dJbV7kUnXsSkFDexdRlkmClb7991b540WtME6u05PawTnPjj4RAJNtrBOmCzHv6zpd2aCQ29iwrLakT77ODVmeUxMEwHMTQ0btBn1ZSSX4rQNqlBNVmSm4bC9hYGKZfQK0atMug6BZWyA0OLcmBRQUU2cf/c+PYkLe2kyz+fpkDg4zabKRLjaJ0Q6EA3qJe15BxN2l/awDsDtemwHtRIuYhPvyTojiT5dt4dUMxUm/Of4ssM0NizTKtq63zHh0jnDkAFb9dk7kdtKC7lq/zbq2EKnHEUSTPDwyw1iGtBr7qDcWX0nEy7RCUyBzZat/yBSWoQ1lwdWviPQpEbCCsCTBAtDPInXRtHvmXTo0B0iXB4JL3zPuwWa+CWNqpywKSlOeNl8It5N7i7+kYRo+QUTFH+/IQaZOELa+nbKk1j3S+wknHOeYYWX7YcQD0K3/S94oPySCYrZHjxo7IsY6I/daT5Rp68uz7VLBxGGQUz7hOJox0HwqpHLKW9ggtL0D6cFjX0BmLvY/Ks10lDKC8t147DtJ7oLc9XzVUS18iYmUprhfntFQmKft39igHVhsyR5e6qz32iJsi3eh0PKO5lIafr77VoM9gHXwe5GCsgF/L/RY9D+5eDJKW9nImUYDe5EEfn74gFKuNURNSmbS5jetXxP+RsmUjoXWEpypvlY/B7/tr//6eRTofwhExYXXse5nIlfA28gF13/RkCs/CmTbmF/l71dnTPVNc9TX/P99vK3TLqPXPcqM2HRueitVi5b/pgJBo937Qqm5ipv8//N5a+ZwMgheN8mZXrQ7e+/LX/ORK6wX0wo0x3ZqXeo/kX5eybIL0PHyZxeoJSTovH28h8wkcyYXTckySRPg91vKP8FE8mg2/kFWSfvL/8JEyT4oDtPzvrz8t8wwRVXXmqt8XflP2Ii5mH3/GNvKf8Vk95LvRD2D8t/xqT/R4qHy/8A/hA6lEJ1pNcAAAAASUVORK5CYII=\" width=\"20%\">\n"
   ]
  },
  {
   "cell_type": "markdown",
   "metadata": {},
   "source": [
    "---\n",
    "### Abstract\n",
    "\n",
    "&#9989;  Provide a short paragraph about the domain you are going to cover in your project (research area, sports, economics, etc). Explain why you picked this domain (i.e. what is your motivation). Explain how computation is used I this domain.    Give a short description that describes the software are you want to explore,  what hardware are you going to use during this exploration, what you hope to benchmark, what you hope to speed up and and what will be a successful outcome.  \n"
   ]
  },
  {
   "cell_type": "markdown",
   "metadata": {},
   "source": [
    "NHL is  National Hockey League. In this project, I am going to do a sports analysis of NHL games. I will be extracting data from sports.io and make a classifier model to predict that who will win the game given a pair of team. I will analyze the features of both teams in each game and train a classifier model. I will try to use pytorch and tensorflow and both run it parallel on a single CPU and GPU to see the time of running each.I can make a graph to compare the time results. I will start with analyzing the features of the winner and loser in several games to build a classifier to predict the winner of two teams. Once I build a successful model I will try to rank the teams and predict the winner from all the teams."
   ]
  },
  {
   "cell_type": "markdown",
   "metadata": {},
   "source": [
    "----\n",
    "### Schedule\n",
    "&#9989;  provide a schedule for you to complete all of your milestones on time.  Include what you plan to work on each week from now until when the projects are due:\n",
    "\n",
    "\n",
    "* Sunday February 5 - Project Proposal Milestone Due\n",
    "* Week of February 6 - Install tensorflow and pytorch on hpcc, data collection\n",
    "* Week of February 12 - Create simple example code\n",
    "* Week of February 19 - Write submission script to run code on hpcc\n",
    "* Sunday February 26 - Project Part 1 Due\n",
    "* Week of March 5 - Improve classifier model\n",
    "* Week of March 12 - Create final classifier model\n",
    "* Week of March 19 - Clean up larger dataset\n",
    "* Week of March 26 - Run code on hpcc\n",
    "* Week of April 2 - Timing study of four methods\n",
    "* Week of April 9 - Final debugging\n",
    "* April 15 - Final Project due"
   ]
  },
  {
   "cell_type": "markdown",
   "metadata": {},
   "source": [
    "---\n",
    "### Part 1 Software Exploration"
   ]
  },
  {
   "cell_type": "markdown",
   "metadata": {},
   "source": [
    "The softwares I am going to explore is tensorflow and pytorch. Tensorflow makes machine learning and developing neural networks faster and easier, pytorch is also used for machine learning but it is realatively easier to use. The tensorflow website https://www.tensorflow.org/ and pytorch website https://www.tensorflow.org/ provide various resources I can use in this project. I plan to get started with installing tensorflow and pytorch on hpcc and run with some simple examples first. I will extract data from https://sportsdata.io/ which provides various categories of nfl data. I will try to find a large dataset that are supposed to take a long time to run, so I can see how tensorflow and pytorch make code go faster. I would expect the outcomes of four method not to be very different from each other. "
   ]
  },
  {
   "cell_type": "markdown",
   "metadata": {},
   "source": [
    "---\n",
    "### Part 2 Benchmark and Optimization"
   ]
  },
  {
   "cell_type": "markdown",
   "metadata": {},
   "source": [
    "I will split my dataset in to training and testing dataset. After building my model I will test the accuracy of my model. I plan to have four different results to do comparison. Use tensorflow to build up a model and run the code on a single CPU and GPU to see how fast it is. Tensorflow and pytorch are for sure able to run in parallel. Also use pytorch to get two results and make a visualization. If I can make my code run faster with a large dataset, the model would be successful. I will try to run 10 times each and take the average to gain a more accurate result. I don't know if the funtime of four methods would be very different, if there is one method significantly faster than others, I would get a better measurement on my model."
   ]
  },
  {
   "cell_type": "markdown",
   "metadata": {},
   "source": [
    "----"
   ]
  }
 ],
 "metadata": {
  "anaconda-cloud": {},
  "kernelspec": {
   "display_name": "Python 3",
   "language": "python",
   "name": "python3"
  },
  "language_info": {
   "codemirror_mode": {
    "name": "ipython",
    "version": 3
   },
   "file_extension": ".py",
   "mimetype": "text/x-python",
   "name": "python",
   "nbconvert_exporter": "python",
   "pygments_lexer": "ipython3",
   "version": "3.8.8"
  }
 },
 "nbformat": 4,
 "nbformat_minor": 1
}
